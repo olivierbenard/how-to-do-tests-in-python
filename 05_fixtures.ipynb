{
 "cells": [
  {
   "cell_type": "markdown",
   "id": "a9918003",
   "metadata": {},
   "source": [
    "## Fixtures\n",
    "\n",
    "The arguments are automatically be filled from the fixture. Can be used to inject functions or factories."
   ]
  },
  {
   "cell_type": "code",
   "execution_count": null,
   "id": "7c86a86b",
   "metadata": {},
   "outputs": [],
   "source": [
    "%%writefile test.py\n",
    "\n",
    "import pytest\n",
    "\n",
    "def test_apple(fruits_bowl):\n",
    "    assert \"apple\" in fruits_bowl\n",
    "    \n",
    "def test_banana(fruits_bowl):\n",
    "    assert \"banana\" in fruits_bowl\n",
    "\n",
    "def test_banana_apple(banana, apple):\n",
    "    assert banana == \"banana\"\n",
    "    assert apple == \"apple\"\n",
    "\n",
    "@pytest.fixture\n",
    "def fruits_bowl():\n",
    "    return [\"apple\", \"banana\"]\n",
    "\n",
    "@pytest.fixture\n",
    "def banana():\n",
    "    return \"banana\"\n",
    "\n",
    "@pytest.fixture\n",
    "def apple():\n",
    "    return \"apple\""
   ]
  },
  {
   "cell_type": "code",
   "execution_count": null,
   "id": "d15660e0",
   "metadata": {},
   "outputs": [],
   "source": [
    "!pytest -s test.py"
   ]
  },
  {
   "cell_type": "markdown",
   "id": "4018ba4e",
   "metadata": {},
   "source": [
    "## Nested Fixtures, Autouse, Scope, Cleanup\n",
    "..."
   ]
  },
  {
   "cell_type": "markdown",
   "id": "7109e08c",
   "metadata": {},
   "source": [
    "## Request context\n",
    "..."
   ]
  },
  {
   "cell_type": "markdown",
   "id": "46e9713a",
   "metadata": {},
   "source": [
    "## Using fixtures to pass functionalities"
   ]
  },
  {
   "cell_type": "code",
   "execution_count": null,
   "id": "dd595417",
   "metadata": {},
   "outputs": [],
   "source": [
    "%%writefile test.py\n",
    "\n",
    "import pytest\n",
    "\n",
    "@pytest.fixture\n",
    "def make_customer_record():\n",
    "    \n",
    "    # function to return\n",
    "    def _make_customer_record(name):\n",
    "        return {\"name\": name, \"orders\": []}\n",
    "\n",
    "    # returns a function\n",
    "    return _make_customer_record\n",
    "\n",
    "def test_customer_records(make_customer_record):\n",
    "    customer_1 = make_customer_record(\"Wilma\")\n",
    "    customer_2 = make_customer_record(\"Olivier\")\n",
    "    customer_3 = make_customer_record(\"Amr\")\n",
    "    assert customer_1 == {\"name\": \"Wilma\", \"orders\": []}"
   ]
  },
  {
   "cell_type": "code",
   "execution_count": null,
   "id": "fe2faadf",
   "metadata": {},
   "outputs": [],
   "source": [
    "!pytest -s test.py"
   ]
  },
  {
   "cell_type": "markdown",
   "id": "6891af6f",
   "metadata": {},
   "source": [
    "## Parametrized fixtures"
   ]
  },
  {
   "cell_type": "code",
   "execution_count": null,
   "id": "f2c82caa",
   "metadata": {},
   "outputs": [],
   "source": [
    "%%writefile test.py\n",
    "\n",
    "import pytest\n",
    "\n",
    "@pytest.fixture(params=[0,1])\n",
    "def a(request):\n",
    "    return request.param\n",
    "\n",
    "# execute the test in isolation for each params value\n",
    "def test_a(a):\n",
    "    print()\n",
    "    print(f\"Value of a is {a}\")"
   ]
  },
  {
   "cell_type": "code",
   "execution_count": null,
   "id": "6e3062cd",
   "metadata": {},
   "outputs": [],
   "source": [
    "!pytest -s test.py"
   ]
  },
  {
   "cell_type": "markdown",
   "id": "618fdfd8",
   "metadata": {},
   "source": [
    "## Available built-in fixtures"
   ]
  },
  {
   "cell_type": "code",
   "execution_count": null,
   "id": "a9ff94c4",
   "metadata": {},
   "outputs": [],
   "source": [
    "!pytest --fixtures"
   ]
  }
 ],
 "metadata": {
  "kernelspec": {
   "display_name": "Python 3 (ipykernel)",
   "language": "python",
   "name": "python3"
  },
  "language_info": {
   "codemirror_mode": {
    "name": "ipython",
    "version": 3
   },
   "file_extension": ".py",
   "mimetype": "text/x-python",
   "name": "python",
   "nbconvert_exporter": "python",
   "pygments_lexer": "ipython3",
   "version": "3.10.4"
  }
 },
 "nbformat": 4,
 "nbformat_minor": 5
}
