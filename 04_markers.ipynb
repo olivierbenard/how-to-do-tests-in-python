{
 "cells": [
  {
   "cell_type": "code",
   "execution_count": null,
   "id": "c13fae44",
   "metadata": {},
   "outputs": [],
   "source": [
    "%%writefile pytest.ini\n",
    "\n",
    "[pytest]\n",
    "markers =\n",
    "    unit: unit tests\n",
    "    integration: integration tests"
   ]
  },
  {
   "cell_type": "code",
   "execution_count": null,
   "id": "04b7c8c9",
   "metadata": {},
   "outputs": [],
   "source": [
    "%%writefile test.py\n",
    "\n",
    "import pytest\n",
    "\n",
    "@pytest.mark.unit()\n",
    "def test_unit_1():\n",
    "    assert 1\n",
    "\n",
    "@pytest.mark.unit()\n",
    "def test_unit_2():\n",
    "    assert 1\n",
    "\n",
    "@pytest.mark.integration()\n",
    "def test_integration_1():\n",
    "    assert 1"
   ]
  },
  {
   "cell_type": "code",
   "execution_count": null,
   "id": "3a6b79ed",
   "metadata": {},
   "outputs": [],
   "source": [
    "!pytest -m unit test.py"
   ]
  },
  {
   "cell_type": "code",
   "execution_count": null,
   "id": "60877f18",
   "metadata": {},
   "outputs": [],
   "source": [
    "!pytest --markers"
   ]
  }
 ],
 "metadata": {
  "kernelspec": {
   "display_name": "Python 3 (ipykernel)",
   "language": "python",
   "name": "python3"
  },
  "language_info": {
   "codemirror_mode": {
    "name": "ipython",
    "version": 3
   },
   "file_extension": ".py",
   "mimetype": "text/x-python",
   "name": "python",
   "nbconvert_exporter": "python",
   "pygments_lexer": "ipython3",
   "version": "3.10.4"
  }
 },
 "nbformat": 4,
 "nbformat_minor": 5
}
