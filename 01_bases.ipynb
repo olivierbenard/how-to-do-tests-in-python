{
 "cells": [
  {
   "cell_type": "markdown",
   "id": "0144b387",
   "metadata": {},
   "source": [
    "# Basic tests\n",
    "\n",
    "## Three types of testing\n",
    "\n",
    "### Unit tests\n",
    "- Tested in isolcation (no connection to external systems)\n",
    "- External connection are mocked away\n",
    "   \n",
    "### Integration tests\n",
    "- Test multiple modules together e.g. function that calls other functions\n",
    "- Includes external dependencies e.g. database connections\n",
    "\n",
    "### Functional tests\n",
    "- Test the application from the user perspective\n",
    "- E.g. if you develop an API for a webshop, can you create an order with the API?\n",
    "\n",
    "## Python Tests Good Practices\n",
    "\n",
    "- The tests are gathered under the tests/ folder, at the top level of the project (you don't want to include the tests if you package the code)\n",
    "- Distinction between integration/ and unittests/\n",
    "- The structure of the unittests/ folder always mirror the structure of the code, prefixing the filenames\n",
    "\n",
    "**Important:** Pytest will only run filenames matching `test_*.py` or `*_test.py`."
   ]
  },
  {
   "cell_type": "code",
   "execution_count": null,
   "id": "1c37880e",
   "metadata": {},
   "outputs": [],
   "source": [
    "!pip3 install pytest"
   ]
  },
  {
   "cell_type": "code",
   "execution_count": null,
   "id": "c76a4c73",
   "metadata": {},
   "outputs": [],
   "source": [
    "%%writefile test_example.py\n",
    "\n",
    "def incr(x):\n",
    "    return x+1\n",
    "\n",
    "def test_answer_1():\n",
    "    assert incr(3) == 5\n",
    "    \n",
    "def test_answer_2():\n",
    "    assert incr(4) == 5"
   ]
  },
  {
   "cell_type": "code",
   "execution_count": null,
   "id": "e1230d43",
   "metadata": {},
   "outputs": [],
   "source": [
    "!pytest -s ."
   ]
  },
  {
   "cell_type": "code",
   "execution_count": null,
   "id": "d3e8bbb8",
   "metadata": {},
   "outputs": [],
   "source": [
    "%%writefile test_example2.py\n",
    "\n",
    "import pytest\n",
    "\n",
    "def raise_exception():\n",
    "    raise SystemExit(1)\n",
    "    \n",
    "def test_raise_exception():\n",
    "    with pytest.raises(SystemExit): # create a block where the exception is raised\n",
    "        raise_exception()"
   ]
  },
  {
   "cell_type": "code",
   "execution_count": null,
   "id": "7b5b2500",
   "metadata": {},
   "outputs": [],
   "source": [
    "!pytest -s test_example2.py"
   ]
  },
  {
   "cell_type": "markdown",
   "id": "3772da15",
   "metadata": {},
   "source": [
    "## Grouping Tests Together using Class"
   ]
  },
  {
   "cell_type": "code",
   "execution_count": null,
   "id": "335c5422",
   "metadata": {},
   "outputs": [],
   "source": [
    "%%writefile test_example3.py\n",
    "\n",
    "class TestClass():\n",
    "    \n",
    "    def test_1(self):\n",
    "        x = \"foo\"\n",
    "        assert \"o\" in x\n",
    "    \n",
    "    def test_2(self):\n",
    "        x = \"hello\"\n",
    "        assert hasattr(x, \"holla\"), \"x doesn't not have attr 'hella'\""
   ]
  },
  {
   "cell_type": "code",
   "execution_count": null,
   "id": "5bc818a9",
   "metadata": {},
   "outputs": [],
   "source": [
    "!pytest --showlocals test_example3.py # print local values of the failing method, here \"self\" and \"x\"."
   ]
  },
  {
   "cell_type": "markdown",
   "id": "586cf7bd",
   "metadata": {},
   "source": [
    "## Use markers to trigger only specific tests\n",
    "\n",
    "You can mark your tests with some markes. Those are metadata about the tests."
   ]
  },
  {
   "cell_type": "code",
   "execution_count": null,
   "id": "49cb274d",
   "metadata": {},
   "outputs": [],
   "source": [
    "%%writefile pytest.ini\n",
    "\n",
    "[pytest]\n",
    "markers =\n",
    "   slow: marks tests as slow (deselect with '-m \"not slow\"')"
   ]
  },
  {
   "cell_type": "code",
   "execution_count": null,
   "id": "c19994e5",
   "metadata": {},
   "outputs": [],
   "source": [
    "%%writefile test_example4.py\n",
    "\n",
    "import pytest\n",
    "\n",
    "class TestClass():\n",
    "    \n",
    "    def test_1(self):\n",
    "        x = 42\n",
    "        assert 42 == x\n",
    "\n",
    "@pytest.mark.slow\n",
    "def test_tmp():\n",
    "    assert 1 == int(\"1\")"
   ]
  },
  {
   "cell_type": "code",
   "execution_count": null,
   "id": "b8901d4a",
   "metadata": {},
   "outputs": [],
   "source": [
    "!pytest -k TestClass test_example4.py"
   ]
  },
  {
   "cell_type": "code",
   "execution_count": null,
   "id": "515e1fe1",
   "metadata": {},
   "outputs": [],
   "source": [
    "!pytest test_example4.py::test_temp"
   ]
  },
  {
   "cell_type": "code",
   "execution_count": null,
   "id": "16eb55a9",
   "metadata": {},
   "outputs": [],
   "source": [
    "!pytest -s -m slow test_example4.py"
   ]
  },
  {
   "cell_type": "code",
   "execution_count": null,
   "id": "ae150768",
   "metadata": {},
   "outputs": [],
   "source": [
    "!pytest -s -m \"not slow\" test_example4.py"
   ]
  },
  {
   "cell_type": "markdown",
   "id": "27e93a75",
   "metadata": {},
   "source": [
    "The above is interesting to filter e.g. between integration and unit tests."
   ]
  },
  {
   "cell_type": "markdown",
   "id": "72978361",
   "metadata": {},
   "source": [
    "## Temporary directory\n",
    "\n",
    "pytest has builtin fixture for creating temp dirs for tests."
   ]
  },
  {
   "cell_type": "code",
   "execution_count": null,
   "id": "e9304f56",
   "metadata": {},
   "outputs": [],
   "source": [
    "%%writefile test_example5.py\n",
    "\n",
    "def test_path(tmp_path):\n",
    "    print(tmp_path)\n",
    "    assert 1"
   ]
  },
  {
   "cell_type": "code",
   "execution_count": null,
   "id": "9dfc287e",
   "metadata": {},
   "outputs": [],
   "source": [
    "!pytest -s test_example5.py"
   ]
  },
  {
   "cell_type": "markdown",
   "id": "8852d860",
   "metadata": {},
   "source": [
    "## Running pytest from Python Code"
   ]
  },
  {
   "cell_type": "code",
   "execution_count": null,
   "id": "6d08954a",
   "metadata": {},
   "outputs": [],
   "source": [
    "%%writefile test_example6.py\n",
    "\n",
    "import pytest\n",
    "\n",
    "def test_1():\n",
    "    assert 1\n",
    "\n",
    "if __name__ == \"__main__\":\n",
    "    retcode = pytest.main()"
   ]
  },
  {
   "cell_type": "code",
   "execution_count": null,
   "id": "b295f494",
   "metadata": {},
   "outputs": [],
   "source": [
    "!python3 test_example6.py"
   ]
  }
 ],
 "metadata": {
  "kernelspec": {
   "display_name": "Python 3 (ipykernel)",
   "language": "python",
   "name": "python3"
  },
  "language_info": {
   "codemirror_mode": {
    "name": "ipython",
    "version": 3
   },
   "file_extension": ".py",
   "mimetype": "text/x-python",
   "name": "python",
   "nbconvert_exporter": "python",
   "pygments_lexer": "ipython3",
   "version": "3.10.4"
  }
 },
 "nbformat": 4,
 "nbformat_minor": 5
}
