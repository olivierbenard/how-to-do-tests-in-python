{
 "cells": [
  {
   "cell_type": "code",
   "execution_count": null,
   "id": "714199fd",
   "metadata": {},
   "outputs": [],
   "source": [
    "%%writefile test.py\n",
    "\n",
    "import pytest\n",
    "\n",
    "CONTENT = \"Hello World!\"\n",
    "\n",
    "def test_create_file(tmp_path):\n",
    "    d = tmp_path / \"sub\" # path railing\n",
    "    d.mkdir()\n",
    "    p = d / \"hello.txt\"\n",
    "    p.write_text(CONTENT)\n",
    "    assert p.read_text() == CONTENT\n",
    "    assert len(list(tmp_path.iterdir())) == 1\n",
    "    assert 0"
   ]
  },
  {
   "cell_type": "code",
   "execution_count": null,
   "id": "f3c869fe",
   "metadata": {},
   "outputs": [],
   "source": [
    "!pytest -s test.py"
   ]
  },
  {
   "cell_type": "code",
   "execution_count": null,
   "id": "f5026b12",
   "metadata": {},
   "outputs": [],
   "source": [
    "!pytest --fixtures"
   ]
  }
 ],
 "metadata": {
  "kernelspec": {
   "display_name": "Python 3 (ipykernel)",
   "language": "python",
   "name": "python3"
  },
  "language_info": {
   "codemirror_mode": {
    "name": "ipython",
    "version": 3
   },
   "file_extension": ".py",
   "mimetype": "text/x-python",
   "name": "python",
   "nbconvert_exporter": "python",
   "pygments_lexer": "ipython3",
   "version": "3.10.4"
  }
 },
 "nbformat": 4,
 "nbformat_minor": 5
}
