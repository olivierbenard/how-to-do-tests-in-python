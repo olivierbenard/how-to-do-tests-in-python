{
 "cells": [
  {
   "cell_type": "code",
   "execution_count": null,
   "id": "79262bc9",
   "metadata": {},
   "outputs": [],
   "source": [
    "%%writefile test.py\n",
    "\n",
    "import pytest\n",
    "\n",
    "# will execute the cross-product\n",
    "@pytest.mark.parametrize(\"x\", [0,1])\n",
    "@pytest.mark.parametrize(\"y\", [2,3,4])\n",
    "def test_1(x,y):\n",
    "    print()\n",
    "    print(x,y)"
   ]
  },
  {
   "cell_type": "code",
   "execution_count": null,
   "id": "6136de92",
   "metadata": {},
   "outputs": [],
   "source": [
    "!pytest -s test.py"
   ]
  },
  {
   "cell_type": "code",
   "execution_count": null,
   "id": "7ca6aa16",
   "metadata": {},
   "outputs": [],
   "source": [
    "%%writefile test.py\n",
    "\n",
    "import pytest\n",
    "\n",
    "# to avoid the cross-product\n",
    "@pytest.mark.parametrize(\n",
    "    \"x,y\", [(1,2), (3,4)]\n",
    ")\n",
    "def test_1(x,y):\n",
    "    print()\n",
    "    print(x,y)"
   ]
  },
  {
   "cell_type": "code",
   "execution_count": null,
   "id": "d6135df2",
   "metadata": {},
   "outputs": [],
   "source": [
    "!pytest -s test.py"
   ]
  }
 ],
 "metadata": {
  "kernelspec": {
   "display_name": "Python 3 (ipykernel)",
   "language": "python",
   "name": "python3"
  },
  "language_info": {
   "codemirror_mode": {
    "name": "ipython",
    "version": 3
   },
   "file_extension": ".py",
   "mimetype": "text/x-python",
   "name": "python",
   "nbconvert_exporter": "python",
   "pygments_lexer": "ipython3",
   "version": "3.10.4"
  }
 },
 "nbformat": 4,
 "nbformat_minor": 5
}
