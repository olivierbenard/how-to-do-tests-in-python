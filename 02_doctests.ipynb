{
 "cells": [
  {
   "cell_type": "markdown",
   "id": "4b0e2b70",
   "metadata": {},
   "source": [
    "Tests which are inside docstrings. You can test if your \"documentation\" is correct."
   ]
  },
  {
   "cell_type": "code",
   "execution_count": null,
   "id": "05ef2b4f",
   "metadata": {},
   "outputs": [],
   "source": [
    "%%writefile test.py\n",
    "\n",
    "def incr(n):\n",
    "    \"\"\"\n",
    "    A doctest in a docstring\n",
    "    >>> incr(2)\n",
    "    3\n",
    "    >>> incr(-1)\n",
    "    0\n",
    "    \"\"\"\n",
    "    return n+1"
   ]
  },
  {
   "cell_type": "code",
   "execution_count": null,
   "id": "ff9de84b",
   "metadata": {},
   "outputs": [],
   "source": [
    "!pytest -s --doctest-modules test.py"
   ]
  }
 ],
 "metadata": {
  "kernelspec": {
   "display_name": "Python 3 (ipykernel)",
   "language": "python",
   "name": "python3"
  },
  "language_info": {
   "codemirror_mode": {
    "name": "ipython",
    "version": 3
   },
   "file_extension": ".py",
   "mimetype": "text/x-python",
   "name": "python",
   "nbconvert_exporter": "python",
   "pygments_lexer": "ipython3",
   "version": "3.10.4"
  }
 },
 "nbformat": 4,
 "nbformat_minor": 5
}
