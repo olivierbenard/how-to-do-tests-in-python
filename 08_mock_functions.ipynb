{
 "cells": [
  {
   "cell_type": "code",
   "execution_count": null,
   "id": "32ab711a",
   "metadata": {},
   "outputs": [],
   "source": [
    "%%writefile test.py\n",
    "\n",
    "from pathlib import Path\n",
    "\n",
    "# function 1\n",
    "def do_something():\n",
    "    return \"do something\"\n",
    "\n",
    "def test_do_something(monkeypatch):\n",
    "    \n",
    "    # e.g. to mock a database connection going wrong\n",
    "    # we give function 1 the following functionality:\n",
    "    def mock_return():\n",
    "        return \"do something else\"\n",
    "\n",
    "    # path to the object we want to mock, prefixed with the module's name\n",
    "    monkeypatch.setattr(\"test.do_something\", mock_return)\n",
    "\n",
    "    print(do_something())"
   ]
  },
  {
   "cell_type": "code",
   "execution_count": null,
   "id": "4f86e29d",
   "metadata": {},
   "outputs": [],
   "source": [
    "!pytest -s test.py"
   ]
  }
 ],
 "metadata": {
  "kernelspec": {
   "display_name": "Python 3 (ipykernel)",
   "language": "python",
   "name": "python3"
  },
  "language_info": {
   "codemirror_mode": {
    "name": "ipython",
    "version": 3
   },
   "file_extension": ".py",
   "mimetype": "text/x-python",
   "name": "python",
   "nbconvert_exporter": "python",
   "pygments_lexer": "ipython3",
   "version": "3.10.4"
  }
 },
 "nbformat": 4,
 "nbformat_minor": 5
}
