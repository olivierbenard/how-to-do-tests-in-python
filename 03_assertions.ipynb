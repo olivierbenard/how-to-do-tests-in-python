{
 "cells": [
  {
   "cell_type": "markdown",
   "id": "b6dff9d4",
   "metadata": {},
   "source": [
    "## Test assertions"
   ]
  },
  {
   "cell_type": "code",
   "execution_count": null,
   "id": "f53490e7",
   "metadata": {},
   "outputs": [],
   "source": [
    "%%writefile test.py\n",
    "\n",
    "def incr(n):\n",
    "    return n + 1\n",
    "\n",
    "def test_1():\n",
    "    assert incr(3) == 5, f\"value was 5, should be {incr(3)}\""
   ]
  },
  {
   "cell_type": "code",
   "execution_count": null,
   "id": "a1a9f2f0",
   "metadata": {},
   "outputs": [],
   "source": [
    "!pytest -s test.py"
   ]
  },
  {
   "cell_type": "markdown",
   "id": "249cf427",
   "metadata": {},
   "source": [
    "## Test exception raising"
   ]
  },
  {
   "cell_type": "code",
   "execution_count": null,
   "id": "9ba96a0c",
   "metadata": {},
   "outputs": [],
   "source": [
    "%%writefile test.py\n",
    "\n",
    "import pytest\n",
    "\n",
    "def test_1():\n",
    "    \n",
    "    with pytest.raises(ZeroDivisionError) as exception:\n",
    "        \n",
    "        def divide(a, b):\n",
    "            return a/b\n",
    "        \n",
    "        divide(42, 0)\n",
    "    \n",
    "    assert \"division by zero\" in str(exception.value)"
   ]
  },
  {
   "cell_type": "code",
   "execution_count": null,
   "id": "63a5e649",
   "metadata": {},
   "outputs": [],
   "source": [
    "!pytest test.py"
   ]
  },
  {
   "cell_type": "code",
   "execution_count": null,
   "id": "e78c0677",
   "metadata": {},
   "outputs": [],
   "source": [
    "%%writefile test.py\n",
    "\n",
    "import pytest\n",
    "\n",
    "def fct():\n",
    "    raise ValueError(\"Error 123: My Own Error Message\")\n",
    "\n",
    "def test_1():\n",
    "    with pytest.raises(ValueError, match=r\".*123.\"):\n",
    "        fct()"
   ]
  },
  {
   "cell_type": "code",
   "execution_count": null,
   "id": "6b57d452",
   "metadata": {},
   "outputs": [],
   "source": [
    "!pytest -s test.py"
   ]
  },
  {
   "cell_type": "markdown",
   "id": "ca8c3d99",
   "metadata": {},
   "source": [
    "## Approximate assertions"
   ]
  },
  {
   "cell_type": "code",
   "execution_count": null,
   "id": "cfd57c06",
   "metadata": {
    "scrolled": true
   },
   "outputs": [],
   "source": [
    "from pytest import approx\n",
    "0.1 + 0.2 == approx(0.3)"
   ]
  }
 ],
 "metadata": {
  "kernelspec": {
   "display_name": "Python 3 (ipykernel)",
   "language": "python",
   "name": "python3"
  },
  "language_info": {
   "codemirror_mode": {
    "name": "ipython",
    "version": 3
   },
   "file_extension": ".py",
   "mimetype": "text/x-python",
   "name": "python",
   "nbconvert_exporter": "python",
   "pygments_lexer": "ipython3",
   "version": "3.10.4"
  }
 },
 "nbformat": 4,
 "nbformat_minor": 5
}
